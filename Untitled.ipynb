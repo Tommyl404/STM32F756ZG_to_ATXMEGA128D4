{
 "cells": [
  {
   "cell_type": "code",
   "execution_count": 23,
   "id": "168949a8-095b-4fc1-8f0d-ae4efa12645a",
   "metadata": {},
   "outputs": [
    {
     "name": "stdout",
     "output_type": "stream",
     "text": [
      "make: Entering directory '/home/selecsys/Desktop/chipwhisperer/IKNP/xmega/simpleserial-aes'\n",
      "Building for platform CWLITEXMEGA with CRYPTO_TARGET=TINYAES128C\n",
      "SS_VER set to SS_VER_1_1\n",
      "SS_VER set to SS_VER_1_1\n",
      "Blank crypto options, building for AES128\n",
      ".\n",
      "Welcome to another exciting ChipWhisperer target build!!\n",
      "avr-gcc (GCC) 5.4.0\n",
      "Copyright (C) 2015 Free Software Foundation, Inc.\n",
      "This is free software; see the source for copying conditions.  There is NO\n",
      "warranty; not even for MERCHANTABILITY or FITNESS FOR A PARTICULAR PURPOSE.\n",
      "\n",
      "mkdir -p objdir-CWLITEXMEGA \n",
      ".\n",
      "Compiling:\n",
      "-en     simpleserial-aes.c ...\n",
      "-e Done!\n",
      ".\n",
      "Compiling:\n",
      "-en     .././simpleserial/simpleserial.c ...\n",
      "-e Done!\n",
      ".\n",
      "Compiling:\n",
      "-en     .././hal/hal.c ...\n",
      "-e Done!\n",
      ".\n",
      "Compiling:\n",
      "-en     .././hal//xmega/XMEGA_AES_driver.c ...\n",
      "-e Done!\n",
      ".\n",
      "Compiling:\n",
      "-en     .././hal//xmega/uart.c ...\n",
      "-e Done!\n",
      ".\n",
      "Compiling:\n",
      "-en     .././hal//xmega/usart_driver.c ...\n",
      "-e Done!\n",
      ".\n",
      "Compiling:\n",
      "-en     .././hal//xmega/xmega_hal.c ...\n",
      "-e Done!\n",
      ".\n",
      "Compiling:\n",
      "-en     .././crypto/tiny-AES128-C/aes.c ...\n",
      "-e Done!\n",
      ".\n",
      "Compiling:\n",
      "-en     .././crypto/aes-independant.c ...\n",
      "-e Done!\n",
      ".\n",
      "LINKING:\n",
      "-en     simpleserial-aes-CWLITEXMEGA.elf ...\n",
      "Memory region         Used Size  Region Size  %age Used\n",
      "            text:        4062 B       136 KB      2.92%\n",
      "            data:         978 B         8 KB     11.94%\n",
      "          eeprom:          0 GB         2 KB      0.00%\n",
      "            fuse:          0 GB          6 B      0.00%\n",
      "            lock:          0 GB         1 KB      0.00%\n",
      "       signature:          0 GB         1 KB      0.00%\n",
      " user_signatures:          0 GB         1 KB      0.00%\n",
      "-e Done!\n",
      ".\n",
      "Creating load file for Flash: simpleserial-aes-CWLITEXMEGA.hex\n",
      "avr-objcopy -O ihex -R .eeprom -R .fuse -R .lock -R .signature simpleserial-aes-CWLITEXMEGA.elf simpleserial-aes-CWLITEXMEGA.hex\n",
      ".\n",
      "Creating load file for Flash: simpleserial-aes-CWLITEXMEGA.bin\n",
      "avr-objcopy -O binary -R .eeprom -R .fuse -R .lock -R .signature simpleserial-aes-CWLITEXMEGA.elf simpleserial-aes-CWLITEXMEGA.bin\n",
      ".\n",
      "Creating load file for EEPROM: simpleserial-aes-CWLITEXMEGA.eep\n",
      "avr-objcopy -j .eeprom --set-section-flags=.eeprom=\"alloc,load\" \\\n",
      "--change-section-lma .eeprom=0 --no-change-warnings -O ihex simpleserial-aes-CWLITEXMEGA.elf simpleserial-aes-CWLITEXMEGA.eep || exit 0\n",
      ".\n",
      "Creating Extended Listing: simpleserial-aes-CWLITEXMEGA.lss\n",
      "avr-objdump -h -S -z simpleserial-aes-CWLITEXMEGA.elf > simpleserial-aes-CWLITEXMEGA.lss\n",
      ".\n",
      "Creating Symbol Table: simpleserial-aes-CWLITEXMEGA.sym\n",
      "avr-nm -n simpleserial-aes-CWLITEXMEGA.elf > simpleserial-aes-CWLITEXMEGA.sym\n",
      "Size after:\n",
      "   text\t   data\t    bss\t    dec\t    hex\tfilename\n",
      "   3522\t    540\t    438\t   4500\t   1194\tsimpleserial-aes-CWLITEXMEGA.elf\n",
      "+--------------------------------------------------------\n",
      "+ Default target does full rebuild each time.\n",
      "+ Specify buildtarget == allquick == to avoid full rebuild\n",
      "+--------------------------------------------------------\n",
      "+--------------------------------------------------------\n",
      "+ Built for platform CW-Lite XMEGA with:\n",
      "+ CRYPTO_TARGET = TINYAES128C\n",
      "+ CRYPTO_OPTIONS = AES128C\n",
      "+--------------------------------------------------------\n",
      "make: Leaving directory '/home/selecsys/Desktop/chipwhisperer/IKNP/xmega/simpleserial-aes'\n"
     ]
    }
   ],
   "source": [
    "%%bash\n",
    "make -C xmega/simpleserial-aes PLATFORM=CWLITEXMEGA CRYPTO_TARGET=TINYAES128C SS_VER=SS_VER_1_1"
   ]
  },
  {
   "cell_type": "code",
   "execution_count": 24,
   "id": "c0d63a33-acdb-47a6-ae29-234e3a29ffe2",
   "metadata": {},
   "outputs": [
    {
     "name": "stdout",
     "output_type": "stream",
     "text": [
      "WARNING:root:SAM3U Serial buffers OVERRUN - data loss has occurred.\n",
      "XMEGA Programming flash...\n",
      "XMEGA Reading flash...\n",
      "Verified flash OK, 4061 bytes\n"
     ]
    }
   ],
   "source": [
    "!python flash_instructions.py \\\n",
    "    xmega/simpleserial-aes/simpleserial-aes-CWLITEXMEGA.hex"
   ]
  },
  {
   "cell_type": "code",
   "execution_count": null,
   "id": "38968809-5f81-4d93-830d-8cced50a9892",
   "metadata": {},
   "outputs": [],
   "source": [
    "!python host_sanity.py /dev/ttyACM0"
   ]
  },
  {
   "cell_type": "code",
   "execution_count": 22,
   "id": "674a7904-fa2b-4bed-86a3-064b1ffe58ce",
   "metadata": {},
   "outputs": [
    {
     "name": "stdout",
     "output_type": "stream",
     "text": [
      "AES test vector: 69c4e0d86a7b0430d8cdb78070b4c55a\n"
     ]
    }
   ],
   "source": [
    "!python host_sanity.py --self-test       # optional software-only check"
   ]
  },
  {
   "cell_type": "code",
   "execution_count": 11,
   "id": "dc700ea1-062b-4bc2-b304-f1356b2ac223",
   "metadata": {},
   "outputs": [
    {
     "name": "stdout",
     "output_type": "stream",
     "text": [
      "\n",
      "$ lsusb | grep -i newae || echo 'ChipWhisperer not found'\n",
      "Bus 001 Device 050: ID 2b3e:ace2 NewAE Technology Inc. CW1173 [ChipWhisperer-Lite]\n",
      "\n",
      "# Detected serial ports\n",
      "  /dev/ttyS31  n/a\n",
      "  /dev/ttyS30  n/a\n",
      "  /dev/ttyS29  n/a\n",
      "  /dev/ttyS28  n/a\n",
      "  /dev/ttyS27  n/a\n",
      "  /dev/ttyS26  n/a\n",
      "  /dev/ttyS25  n/a\n",
      "  /dev/ttyS24  n/a\n",
      "  /dev/ttyS23  n/a\n",
      "  /dev/ttyS22  n/a\n",
      "  /dev/ttyS21  n/a\n",
      "  /dev/ttyS20  n/a\n",
      "  /dev/ttyS19  n/a\n",
      "  /dev/ttyS18  n/a\n",
      "  /dev/ttyS17  n/a\n",
      "  /dev/ttyS16  n/a\n",
      "  /dev/ttyS15  n/a\n",
      "  /dev/ttyS14  n/a\n",
      "  /dev/ttyS13  n/a\n",
      "  /dev/ttyS12  n/a\n",
      "  /dev/ttyS11  n/a\n",
      "  /dev/ttyS10  n/a\n",
      "  /dev/ttyS9   n/a\n",
      "  /dev/ttyS8   n/a\n",
      "  /dev/ttyS7   n/a\n",
      "  /dev/ttyS6   n/a\n",
      "  /dev/ttyS5   n/a\n",
      "  /dev/ttyS4   n/a\n",
      "  /dev/ttyS3   n/a\n",
      "  /dev/ttyS2   n/a\n",
      "  /dev/ttyS1   n/a\n",
      "  /dev/ttyS0   n/a\n",
      "  /dev/ttyUSB0 TTL-234X-3V3-2MM - TTL-234X-3V3-2MM\n",
      "  /dev/ttyACM0 ChipWhisperer Lite\n",
      "\n",
      "# Connecting to ChipWhisperer-Lite scope\n",
      "scope check failed: module 'chipwhisperer' has no attribute 'check_firmware'\n"
     ]
    }
   ],
   "source": [
    "!python cw_diag.py /dev/ttyACM0"
   ]
  },
  {
   "cell_type": "code",
   "execution_count": null,
   "id": "60777ec6-e0e9-4171-be0b-512e1ef5db9e",
   "metadata": {},
   "outputs": [],
   "source": []
  }
 ],
 "metadata": {
  "kernelspec": {
   "display_name": "Python 3 (ipykernel)",
   "language": "python",
   "name": "python3"
  },
  "language_info": {
   "codemirror_mode": {
    "name": "ipython",
    "version": 3
   },
   "file_extension": ".py",
   "mimetype": "text/x-python",
   "name": "python",
   "nbconvert_exporter": "python",
   "pygments_lexer": "ipython3",
   "version": "3.10.12"
  }
 },
 "nbformat": 4,
 "nbformat_minor": 5
}
